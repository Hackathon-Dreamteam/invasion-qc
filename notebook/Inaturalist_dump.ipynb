{
 "cells": [
  {
   "cell_type": "markdown",
   "metadata": {
    "application/vnd.databricks.v1+cell": {
     "cellMetadata": {},
     "inputWidgets": {},
     "nuid": "cd912cb1-8064-4593-9525-e6fa3d1de77e",
     "showTitle": false,
     "title": ""
    }
   },
   "source": [
    "# Import Required Libraries\n",
    "Import the necessary libraries, including requests and pandas."
   ]
  },
  {
   "cell_type": "code",
   "execution_count": 0,
   "metadata": {
    "application/vnd.databricks.v1+cell": {
     "cellMetadata": {
      "byteLimit": 2048000,
      "rowLimit": 10000
     },
     "inputWidgets": {},
     "nuid": "ecc5d9de-d228-46a6-b50a-1de9e0789684",
     "showTitle": false,
     "title": ""
    }
   },
   "outputs": [],
   "source": [
    "# Importing the required libraries\n",
    "import requests\n",
    "import pandas as pd\n",
    "from pyinaturalist import get_observations"
   ]
  },
  {
   "cell_type": "markdown",
   "metadata": {
    "application/vnd.databricks.v1+cell": {
     "cellMetadata": {},
     "inputWidgets": {},
     "nuid": "c4904f4d-b7cd-4ea4-b98c-6b8b67c128cc",
     "showTitle": false,
     "title": ""
    }
   },
   "source": [
    "# Send GET Request to iNaturalist API\n",
    "Use the requests library to send a GET request to the iNaturalist API."
   ]
  },
  {
   "cell_type": "code",
   "execution_count": 0,
   "metadata": {
    "application/vnd.databricks.v1+cell": {
     "cellMetadata": {
      "byteLimit": 2048000,
      "rowLimit": 10000
     },
     "inputWidgets": {},
     "nuid": "e70be017-1cf5-4fba-ba9a-d4d00abb7785",
     "showTitle": false,
     "title": ""
    }
   },
   "outputs": [],
   "source": [
    "laval_place_id = 27655\n",
    "montreal_place_id = 187355\n",
    "gatineau_place_id = 142292\n",
    "\n",
    "# Initialize an empty DataFrame to store the observations\n",
    "df = pd.DataFrame()\n",
    "# Iterate over each page and append the data to the DataFrame\n",
    "for page in range(1, 10):\n",
    "    # Get the observations for the specified place and page\n",
    "    laval_observations = get_observations(place_id=laval_place_id, verifiable=True, page=str(page), quality_grade=\"research\")\n",
    "    # Append the observations to the DataFrame\n",
    "    df = df.append(laval_observations[\"results\"], ignore_index=True)\n",
    "\n",
    "# Save the DataFrame to a CSV file\n",
    "df.to_csv('inaturalist_data.csv', index=False)\n",
    "\n",
    "print(\"Data saved to 'inaturalist_data.csv'.\")"
   ]
  },
  {
   "cell_type": "code",
   "execution_count": 0,
   "metadata": {
    "application/vnd.databricks.v1+cell": {
     "cellMetadata": {
      "byteLimit": 2048000,
      "rowLimit": 10000
     },
     "inputWidgets": {},
     "nuid": "08899fc8-0fc4-4f68-8514-cfe5add6330c",
     "showTitle": false,
     "title": ""
    }
   },
   "outputs": [],
   "source": [
    "import os\n",
    "\n",
    "# Get all files in the data folder\n",
    "# Read the 'sentinelle_liste_sp.csv' file from the workspace\n",
    "file_path = 'sentinelle_liste_sp.csv'\n",
    "df_sentinelle = pd.read_csv(file_path)\n",
    "df_sentinelle[\"Nom_francais\"] = df_sentinelle[['Nom_francais']].apply(lambda x: x.astype(str).str.lower())\n",
    "# Filter the files based on the ones that contain \"sentinelle\" in their name\n",
    "\n",
    "display(df_sentinelle)\n",
    "# Add any additional code here for further processing or analysis"
   ]
  },
  {
   "cell_type": "code",
   "execution_count": 0,
   "metadata": {
    "application/vnd.databricks.v1+cell": {
     "cellMetadata": {
      "byteLimit": 2048000,
      "rowLimit": 10000
     },
     "inputWidgets": {},
     "nuid": "1b73efa0-b653-472c-9105-76b1478fe507",
     "showTitle": false,
     "title": ""
    }
   },
   "outputs": [],
   "source": [
    "# Keep only the 'species_guess' column and add a new column with the value 'Laval'\n",
    "# Convert the values in the 'species_guess' column to lowercase and select only the 'species_guess' column\n",
    "df_simplified = df[['species_guess']].apply(lambda x: x.astype(str).str.lower())\n",
    "df_simplified['location'] = 'Laval'\n",
    "\n",
    "display(df_simplified)\n",
    "\n",
    "df_simplified.to_csv(\"laval_with_species.csv\")"
   ]
  },
  {
   "cell_type": "code",
   "execution_count": 0,
   "metadata": {
    "application/vnd.databricks.v1+cell": {
     "cellMetadata": {
      "byteLimit": 2048000,
      "rowLimit": 10000
     },
     "inputWidgets": {},
     "nuid": "939bd87b-4502-4af2-a385-1699fe9f1e97",
     "showTitle": false,
     "title": ""
    }
   },
   "outputs": [],
   "source": [
    "# Perform a left join on the specified columns\n",
    "merged_df = df_simplified.merge(right=df_sentinelle, left_on='species_guess', right_on='Nom_francais', how='inner')\n",
    "# Display the merged DataFrame\n",
    "display(merged_df)"
   ]
  },
  {
   "cell_type": "code",
   "execution_count": 0,
   "metadata": {
    "application/vnd.databricks.v1+cell": {
     "cellMetadata": {
      "byteLimit": 2048000,
      "rowLimit": 10000
     },
     "inputWidgets": {},
     "nuid": "c32f163a-4966-4c21-8257-265124d1fe74",
     "showTitle": false,
     "title": ""
    }
   },
   "outputs": [],
   "source": [
    "display(df)"
   ]
  },
  {
   "cell_type": "code",
   "execution_count": 0,
   "metadata": {
    "application/vnd.databricks.v1+cell": {
     "cellMetadata": {
      "byteLimit": 2048000,
      "rowLimit": 10000
     },
     "inputWidgets": {},
     "nuid": "58c40398-f7ee-4572-ac8f-cf74e766e4c8",
     "showTitle": false,
     "title": ""
    }
   },
   "outputs": [],
   "source": [
    "# Specify the column values to filter on\n",
    "values_to_filter = df[\"species_guess\"]\n",
    "\n",
    "# Filter the DataFrame based on the values in the specified column\n",
    "filtered_df = df[df_sentinelle['Nom_francais'].isin(values_to_filter)]\n",
    "\n",
    "display(filtered_df)"
   ]
  },
  {
   "cell_type": "markdown",
   "metadata": {
    "application/vnd.databricks.v1+cell": {
     "cellMetadata": {},
     "inputWidgets": {},
     "nuid": "fe10b0a8-82be-4db5-bebd-e2fe337592ed",
     "showTitle": false,
     "title": ""
    }
   },
   "source": [
    "# Parse API Response\n",
    "Parse the JSON response from the API and convert it into a pandas DataFrame."
   ]
  },
  {
   "cell_type": "code",
   "execution_count": 0,
   "metadata": {
    "application/vnd.databricks.v1+cell": {
     "cellMetadata": {},
     "inputWidgets": {},
     "nuid": "3c349955-f1af-48e9-8f97-304024fec33a",
     "showTitle": false,
     "title": ""
    }
   },
   "outputs": [],
   "source": [
    "# Parse the JSON response and convert it into a pandas DataFrame\n",
    "# Extract the relevant information from each observation\n",
    "observations = []\n",
    "for result in results:\n",
    "    observation = {\n",
    "        'id': result['id'],\n",
    "        'observed_on': result['observed_on'],\n",
    "        'description': result['description'],\n",
    "        'latitude': result['geojson']['coordinates'][1],\n",
    "        'longitude': result['geojson']['coordinates'][0],\n",
    "        'location': result['location'],\n",
    "        'species_guess': result['species_guess']\n",
    "    }\n",
    "    observations.append(observation)\n",
    "\n",
    "# Convert the list of observations into a pandas DataFrame\n",
    "df = pd.DataFrame(observations)\n",
    "\n",
    "# Save the DataFrame to a CSV file\n",
    "df.to_csv('inaturalist_data.csv', index=False)\n",
    "\n",
    "print(\"Data saved to 'inaturalist_data.csv'.\")"
   ]
  },
  {
   "cell_type": "markdown",
   "metadata": {
    "application/vnd.databricks.v1+cell": {
     "cellMetadata": {},
     "inputWidgets": {},
     "nuid": "32893d7c-94df-424b-9c32-e26e9cf59ca7",
     "showTitle": false,
     "title": ""
    }
   },
   "source": [
    "# Filter Data by City\n",
    "Filter the DataFrame based on the city or cities of interest."
   ]
  },
  {
   "cell_type": "code",
   "execution_count": 0,
   "metadata": {
    "application/vnd.databricks.v1+cell": {
     "cellMetadata": {},
     "inputWidgets": {},
     "nuid": "128079a4-2ab9-47fd-a301-085e892e4576",
     "showTitle": false,
     "title": ""
    }
   },
   "outputs": [],
   "source": [
    "# Define the cities of interest\n",
    "cities_of_interest = ['city1', 'city2', 'city3']  # replace with your cities\n",
    "\n",
    "# Filter the DataFrame based on the city or cities of interest\n",
    "df_filtered = df[df['location'].isin(cities_of_interest)]\n",
    "\n",
    "# Save the filtered DataFrame to a CSV file\n",
    "df_filtered.to_csv('filtered_inaturalist_data.csv', index=False)\n",
    "\n",
    "print(\"Filtered data saved to 'filtered_inaturalist_data.csv'.\")"
   ]
  },
  {
   "cell_type": "markdown",
   "metadata": {
    "application/vnd.databricks.v1+cell": {
     "cellMetadata": {},
     "inputWidgets": {},
     "nuid": "9406b5e0-d59b-4602-b30b-c1978060191b",
     "showTitle": false,
     "title": ""
    }
   },
   "source": [
    "# Save Data to CSV\n",
    "Save the filtered data to a CSV file using pandas."
   ]
  },
  {
   "cell_type": "code",
   "execution_count": 0,
   "metadata": {
    "application/vnd.databricks.v1+cell": {
     "cellMetadata": {},
     "inputWidgets": {},
     "nuid": "a5d06bdb-eccc-4288-be79-4a38450d36eb",
     "showTitle": false,
     "title": ""
    }
   },
   "outputs": [],
   "source": [
    "# Save the filtered DataFrame to a CSV file\n",
    "df_filtered.to_csv('filtered_inaturalist_data.csv', index=False)\n",
    "\n",
    "print(\"Filtered data saved to 'filtered_inaturalist_data.csv'.\")"
   ]
  }
 ],
 "metadata": {
  "application/vnd.databricks.v1+notebook": {
   "dashboards": [],
   "language": "python",
   "notebookMetadata": {
    "mostRecentlyExecutedCommandWithImplicitDF": {
     "commandId": -1,
     "dataframes": [
      "_sqldf"
     ]
    },
    "pythonIndentUnit": 4
   },
   "notebookName": "Inaturalist_dump",
   "widgets": {}
  },
  "kernelspec": {
   "display_name": "Python 3",
   "language": "python",
   "name": "python3"
  },
  "language_info": {
   "codemirror_mode": {
    "name": "ipython",
    "version": 3
   },
   "file_extension": ".py",
   "mimetype": "text/x-python",
   "name": "python",
   "nbconvert_exporter": "python",
   "pygments_lexer": "ipython3",
   "version": "3.11.8"
  },
  "orig_nbformat": 4
 },
 "nbformat": 4,
 "nbformat_minor": 0
}
