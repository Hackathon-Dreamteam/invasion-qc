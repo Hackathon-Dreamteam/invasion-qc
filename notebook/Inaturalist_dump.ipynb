{
 "cells": [
  {
   "cell_type": "markdown",
   "metadata": {
    "application/vnd.databricks.v1+cell": {
     "cellMetadata": {},
     "inputWidgets": {},
     "nuid": "cd912cb1-8064-4593-9525-e6fa3d1de77e",
     "showTitle": false,
     "title": ""
    }
   },
   "source": [
    "# Import Required Libraries\n",
    "Import the necessary libraries, including requests and pandas."
   ]
  },
  {
   "cell_type": "code",
   "execution_count": 0,
   "metadata": {
    "application/vnd.databricks.v1+cell": {
     "cellMetadata": {
      "byteLimit": 2048000,
      "rowLimit": 10000
     },
     "inputWidgets": {},
     "nuid": "ecc5d9de-d228-46a6-b50a-1de9e0789684",
     "showTitle": false,
     "title": ""
    }
   },
   "outputs": [],
   "source": [
    "# Importing the required libraries\n",
    "import requests\n",
    "import pandas as pd\n",
    "from pyinaturalist import get_observations\n",
    "import numpy as np\n",
    "import json"
   ]
  },
  {
   "cell_type": "markdown",
   "metadata": {
    "application/vnd.databricks.v1+cell": {
     "cellMetadata": {},
     "inputWidgets": {},
     "nuid": "c4904f4d-b7cd-4ea4-b98c-6b8b67c128cc",
     "showTitle": false,
     "title": ""
    }
   },
   "source": [
    "# Send GET Request to iNaturalist API\n",
    "Use the requests library to send a GET request to the iNaturalist API."
   ]
  },
  {
   "cell_type": "code",
   "execution_count": 0,
   "metadata": {
    "application/vnd.databricks.v1+cell": {
     "cellMetadata": {
      "byteLimit": 2048000,
      "rowLimit": 10000
     },
     "inputWidgets": {},
     "nuid": "e70be017-1cf5-4fba-ba9a-d4d00abb7785",
     "showTitle": false,
     "title": ""
    }
   },
   "outputs": [],
   "source": [
    "laval_place_id = 27655\n",
    "montreal_place_id = 187355\n",
    "gatineau_place_id = 142292\n",
    "\n",
    "# Initialize an empty DataFrame to store the observations\n",
    "def get_observations_dataframe(place_id,place_name):\n",
    "    df = pd.DataFrame()\n",
    "    for page in range(1, 10):\n",
    "        observation = get_observations(place_id=place_id, verifiable=True,per_page=200, page=str(page), quality_grade=\"research\")\n",
    "        df = df.append(observation[\"results\"], ignore_index=True)\n",
    "        df[\"location\"] = place_name\n",
    "    return df\n",
    "\n",
    "df_naturalist = pd.DataFrame()\n",
    "# Example usage\n",
    "data_laval = get_observations_dataframe(laval_place_id,\"Laval\")\n",
    "data_montreal = get_observations_dataframe(montreal_place_id,\"Montreal\")\n",
    "data_gatineau = get_observations_dataframe(gatineau_place_id,\"Gatineau\")\n",
    "\n",
    "\n",
    "df_naturalist = pd.concat([data_laval, data_montreal, data_gatineau], ignore_index=True)\n",
    "df_naturalist['observed_on'] = pd.to_datetime(df_naturalist['observed_on'], utc=True)\n",
    "\n",
    "# Save the DataFrame to Parquet\n",
    "df_naturalist.to_parquet(\"naturalist_sample.parquet\")"
   ]
  },
  {
   "cell_type": "code",
   "execution_count": 0,
   "metadata": {
    "application/vnd.databricks.v1+cell": {
     "cellMetadata": {
      "byteLimit": 2048000,
      "rowLimit": 10000
     },
     "inputWidgets": {},
     "nuid": "bfb4ace4-b5b8-47cf-97e0-c4465df6113e",
     "showTitle": false,
     "title": ""
    }
   },
   "outputs": [],
   "source": [
    "\n",
    "# Initialize an empty DataFrame to store the observations\n",
    "def get_observations_dataframe_by_geojson(latitude,longitude):\n",
    "    df = pd.DataFrame()\n",
    "    for page in range(1, 2):\n",
    "        observation = get_observations(verifiable=True,per_page=200, page=str(page), quality_grade=\"research\", lat=latitude, lng= longitude,radius=50)\n",
    "        df = df.append(observation[\"results\"], ignore_index=True)\n",
    "\n",
    "    return df\n",
    "\n",
    "data_shawinigan = get_observations_dataframe_by_geojson(46.67892,-72.876228)"
   ]
  },
  {
   "cell_type": "code",
   "execution_count": 0,
   "metadata": {
    "application/vnd.databricks.v1+cell": {
     "cellMetadata": {
      "byteLimit": 2048000,
      "rowLimit": 10000
     },
     "inputWidgets": {},
     "nuid": "79f12133-de02-4092-9079-3ed847a39e20",
     "showTitle": false,
     "title": ""
    }
   },
   "outputs": [],
   "source": [
    "data_shawinigan"
   ]
  },
  {
   "cell_type": "code",
   "execution_count": 0,
   "metadata": {
    "application/vnd.databricks.v1+cell": {
     "cellMetadata": {
      "byteLimit": 2048000,
      "rowLimit": 10000
     },
     "inputWidgets": {},
     "nuid": "47962d5e-fb21-4849-a491-fa7d1702f2bb",
     "showTitle": true,
     "title": "converting observed_on date to String"
    }
   },
   "outputs": [],
   "source": [
    "df_naturalist = pd.read_parquet(\"naturalist_sample.parquet\")\n",
    "# display(df_naturalist)"
   ]
  },
  {
   "cell_type": "code",
   "execution_count": 0,
   "metadata": {
    "application/vnd.databricks.v1+cell": {
     "cellMetadata": {
      "byteLimit": 2048000,
      "rowLimit": 10000
     },
     "inputWidgets": {},
     "nuid": "08899fc8-0fc4-4f68-8514-cfe5add6330c",
     "showTitle": true,
     "title": "Import Sentinelle Dataset CSV file"
    }
   },
   "outputs": [],
   "source": [
    "import os\n",
    "\n",
    "# Get all files in the data folder\n",
    "# Read the 'sentinelle_liste_sp.csv' file from the workspace\n",
    "file_path = 'sentinelle_liste_sp.csv'\n",
    "df_sentinelle = pd.read_csv(file_path)\n",
    "# Filter the files based on the ones that contain \"sentinelle\" in their name\n",
    "\n",
    "# display(df_sentinelle)\n",
    "# Add any additional code here for further processing or analysis"
   ]
  },
  {
   "cell_type": "code",
   "execution_count": 0,
   "metadata": {
    "application/vnd.databricks.v1+cell": {
     "cellMetadata": {
      "byteLimit": 2048000,
      "rowLimit": 10000
     },
     "inputWidgets": {},
     "nuid": "02aa3733-7bc3-4991-b2a7-f2fa53f46a0a",
     "showTitle": true,
     "title": "Add invasive column"
    },
    "jupyter": {
     "outputs_hidden": true
    }
   },
   "outputs": [],
   "source": [
    "import numpy as np\n",
    "\n",
    "def add_isInvasive_column(df_inaturalist, df_sentinelle):\n",
    "    cols_to_return = list(df_inaturalist)\n",
    "    cols_to_return.append(\"isInvasive\")\n",
    "    df_inaturalist['species_guess'] = df_inaturalist[['species_guess']].apply(lambda x: x.astype(str).str.lower())\n",
    "    df_sentinelle[\"Nom_francais\"] = df_sentinelle[['Nom_francais']].apply(lambda x: x.astype(str).str.lower())\n",
    "    merged_df = df_inaturalist.merge(right=df_sentinelle, left_on='species_guess', right_on='Nom_francais', how='left')\n",
    "    merged_df[\"isInvasive\"] = np.where((merged_df[\"Nom_francais\"].isnull()) | (merged_df[\"Nom_francais\"] == np.nan), False, True)\n",
    "    return merged_df[cols_to_return]\n",
    "\n",
    "# joined_df = add_isInvasive_column(df_naturalist, df_sentinelle)\n",
    "# joined_df[joined_df[\"isInvasive\"] == True]"
   ]
  },
  {
   "cell_type": "code",
   "execution_count": 0,
   "metadata": {
    "application/vnd.databricks.v1+cell": {
     "cellMetadata": {
      "byteLimit": 2048000,
      "rowLimit": 10000
     },
     "inputWidgets": {},
     "nuid": "1b73efa0-b653-472c-9105-76b1478fe507",
     "showTitle": true,
     "title": "Get community column"
    }
   },
   "outputs": [],
   "source": [
    "# Keep only the 'species_guess' column and add a new column with the value 'Laval'\n",
    "# Convert the values in the 'species_guess' column to lowercase and select only the 'species_guess' column\n",
    "\n",
    "def get_community_observations_df(df_naturalist, df_sentinelle):\n",
    "    df = df_naturalist.copy()\n",
    "    df[\"observed_on\"] = df[\"observed_on\"].dt.strftime(\"%Y-%m-%d\")\n",
    "    df.rename(columns={'observed_on': 'observation_date'}, inplace=True)\n",
    "    df['species_guess'] = df['species_guess'].astype(str).str.lower()\n",
    "    df = add_isInvasive_column(df, df_sentinelle)\n",
    "    df['longitude'] = df['geojson'].apply(lambda x: x['coordinates'][0] if 'coordinates' in x else None)\n",
    "    df['latitude'] = df['geojson'].apply(lambda x: x['coordinates'][1] if 'coordinates' in x else None)\n",
    "    df[\"source\"] = \"Community\"\n",
    "    df[\"image_url\"] = df['observation_photos'].apply(lambda x: x[0]['photo'][\"url\"].replace(\"square.jpeg\", \"large.jpeg\") if len(x) >= 1 else None)\n",
    "    df = df[['species_guess', 'location', 'observation_date', 'isInvasive', 'latitude', 'longitude', 'source', 'image_url']]\n",
    "    return df"
   ]
  },
  {
   "cell_type": "markdown",
   "metadata": {
    "application/vnd.databricks.v1+cell": {
     "cellMetadata": {},
     "inputWidgets": {},
     "nuid": "fe10b0a8-82be-4db5-bebd-e2fe337592ed",
     "showTitle": false,
     "title": ""
    }
   },
   "source": [
    "# Data from government on observation\n"
   ]
  },
  {
   "cell_type": "code",
   "execution_count": 0,
   "metadata": {
    "application/vnd.databricks.v1+cell": {
     "cellMetadata": {
      "byteLimit": 2048000,
      "rowLimit": 10000
     },
     "inputWidgets": {},
     "nuid": "77170415-ac3e-4ded-a6b2-aa6797a9a9d0",
     "showTitle": true,
     "title": "Get government data"
    }
   },
   "outputs": [],
   "source": [
    "def get_government_observations(df):\n",
    "    df[\"species_guess\"] = df[\"properties\"].apply(lambda x: x['Nom_espece_français'].lower() if 'Nom_espece_français' in x else None)\n",
    "    df[\"location\"] = df[\"properties\"].apply(lambda x: x['Nom_region_administrative'] if 'Nom_region_administrative' in x else None)\n",
    "    df[\"observation_date\"] = df[\"properties\"].apply(lambda x: x['Date_observation'] if 'Date_observation' in x else None)\n",
    "\n",
    "    df[\"latitude\"] = df[\"properties\"].apply(lambda x: x['Latitude'] if 'Latitude' in x else None)\n",
    "    df[\"longitude\"] = df[\"properties\"].apply(lambda x: x['Longitude'] if 'Longitude' in x else None)\n",
    "    df[\"isInvasive\"] = True\n",
    "    df[\"source\"] = \"Government\"\n",
    "    df[\"image_url\"] = df[\"properties\"].apply(lambda x: x['Lien_photo'] if 'Lien_photo' in x else None)\n",
    "    df = df[['species_guess', 'location', 'observation_date', 'isInvasive', 'latitude', 'longitude', 'source', 'image_url']]\n",
    "    df = df[df['location'].isin(['Montréal', 'Laval', 'Outaouais'])]\n",
    "    return df"
   ]
  },
  {
   "cell_type": "code",
   "execution_count": 0,
   "metadata": {
    "application/vnd.databricks.v1+cell": {
     "cellMetadata": {
      "byteLimit": 2048000,
      "rowLimit": 10000
     },
     "inputWidgets": {},
     "nuid": "62d6a621-780e-40c7-bf8e-a66bedd045c5",
     "showTitle": true,
     "title": "Union Community and Government data and sav e to JSON"
    }
   },
   "outputs": [],
   "source": [
    "# Save the DataFrame as a JSON file with UTF-8 encoding and records orientation\n",
    "gov_df = pd.read_json(\"especes_exo_envahissantes.json\")\n",
    "gov_df = get_government_observations(gov_df)\n",
    "community_df = get_community_observations_df(df_naturalist, df_sentinelle)\n",
    "\n",
    "union_df = pd.concat([community_df, gov_df], ignore_index=True)"
   ]
  },
  {
   "cell_type": "code",
   "execution_count": 0,
   "metadata": {
    "application/vnd.databricks.v1+cell": {
     "cellMetadata": {
      "byteLimit": 2048000,
      "rowLimit": 10000
     },
     "inputWidgets": {},
     "nuid": "a5d06bdb-eccc-4288-be79-4a38450d36eb",
     "showTitle": false,
     "title": ""
    }
   },
   "outputs": [],
   "source": [
    "from pyspark.sql.functions import explode_outer, col\n",
    "# I want to store in a df the array in the feature field from table\n",
    "df = spark.table(\"hive_metastore.default.animaux_precaire\")\n",
    "\n",
    "def clean_animaux_precaires(df):\n",
    "    df = df.select(explode_outer(col(\"features\"))).select(\"col.properties\").select(\"properties.*\")\n",
    "    return df\n",
    "\n",
    "df = clean_animaux_precaires(df)\n",
    "animaux_precaires_df = df.toPandas()\n",
    "# display(animaux_precaires_df)"
   ]
  },
  {
   "cell_type": "code",
   "execution_count": 0,
   "metadata": {
    "application/vnd.databricks.v1+cell": {
     "cellMetadata": {
      "byteLimit": 2048000,
      "rowLimit": 10000
     },
     "inputWidgets": {},
     "nuid": "de337fe1-9a3d-4fa4-ad2a-a858fbadb305",
     "showTitle": false,
     "title": ""
    }
   },
   "outputs": [],
   "source": [
    "def add_isPrecarious_column(observations_df, precarious_df):\n",
    "    df = observations_df.copy()\n",
    "    cols_to_return = list(df) + [\"isPrecarious\"]\n",
    "    \n",
    "    df['species_guess'] = df['species_guess'].astype(str).str.lower()\n",
    "    precarious_df[\"SCOMNAME\"] = precarious_df['SCOMNAME'].astype(str).str.lower()\n",
    "    \n",
    "    merged_df = df.merge(right=precarious_df, left_on='species_guess', right_on='SCOMNAME', how='left')\n",
    "    merged_df[\"isPrecarious\"] = np.where((merged_df[\"SCOMNAME\"].isnull()) | (merged_df[\"SCOMNAME\"] == np.nan), False, True)\n",
    "    \n",
    "    return merged_df[cols_to_return]\n",
    "\n",
    "df_withPrecarious = add_isPrecarious_column(union_df, animaux_precaires_df)\n",
    "display(df_withPrecarious)"
   ]
  },
  {
   "cell_type": "code",
   "execution_count": 0,
   "metadata": {
    "application/vnd.databricks.v1+cell": {
     "cellMetadata": {
      "byteLimit": 2048000,
      "rowLimit": 10000
     },
     "inputWidgets": {},
     "nuid": "1e25052d-2e6b-4d2e-af38-59220d9d5c7d",
     "showTitle": false,
     "title": ""
    }
   },
   "outputs": [],
   "source": [
    "df_withPrecarious.to_json(\"observations.json\", orient=\"records\", force_ascii=False)"
   ]
  },
  {
   "cell_type": "code",
   "execution_count": 0,
   "metadata": {
    "application/vnd.databricks.v1+cell": {
     "cellMetadata": {},
     "inputWidgets": {},
     "nuid": "af5692f9-2c58-47d9-9520-4c13ade6ffd1",
     "showTitle": false,
     "title": ""
    }
   },
   "outputs": [],
   "source": []
  }
 ],
 "metadata": {
  "application/vnd.databricks.v1+notebook": {
   "dashboards": [],
   "language": "python",
   "notebookMetadata": {
    "mostRecentlyExecutedCommandWithImplicitDF": {
     "commandId": -1,
     "dataframes": [
      "_sqldf"
     ]
    },
    "pythonIndentUnit": 4
   },
   "notebookName": "Inaturalist_dump",
   "widgets": {}
  },
  "kernelspec": {
   "display_name": "Python 3",
   "language": "python",
   "name": "python3"
  },
  "language_info": {
   "codemirror_mode": {
    "name": "ipython",
    "version": 3
   },
   "file_extension": ".py",
   "mimetype": "text/x-python",
   "name": "python",
   "nbconvert_exporter": "python",
   "pygments_lexer": "ipython3",
   "version": "3.11.8"
  },
  "orig_nbformat": 4
 },
 "nbformat": 4,
 "nbformat_minor": 0
}
