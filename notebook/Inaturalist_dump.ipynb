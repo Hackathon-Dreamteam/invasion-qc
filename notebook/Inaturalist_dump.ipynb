{
 "cells": [
  {
   "cell_type": "markdown",
   "metadata": {
    "application/vnd.databricks.v1+cell": {
     "cellMetadata": {},
     "inputWidgets": {},
     "nuid": "cd912cb1-8064-4593-9525-e6fa3d1de77e",
     "showTitle": false,
     "title": ""
    }
   },
   "source": [
    "# Import Required Libraries\n",
    "Import the necessary libraries, including requests and pandas."
   ]
  },
  {
   "cell_type": "code",
   "execution_count": 0,
   "metadata": {
    "application/vnd.databricks.v1+cell": {
     "cellMetadata": {
      "byteLimit": 2048000,
      "rowLimit": 10000
     },
     "inputWidgets": {},
     "nuid": "ecc5d9de-d228-46a6-b50a-1de9e0789684",
     "showTitle": false,
     "title": ""
    }
   },
   "outputs": [],
   "source": [
    "# Importing the required libraries\n",
    "import requests\n",
    "import pandas as pd\n",
    "from pyinaturalist import get_observations\n",
    "import numpy as np"
   ]
  },
  {
   "cell_type": "markdown",
   "metadata": {
    "application/vnd.databricks.v1+cell": {
     "cellMetadata": {},
     "inputWidgets": {},
     "nuid": "c4904f4d-b7cd-4ea4-b98c-6b8b67c128cc",
     "showTitle": false,
     "title": ""
    }
   },
   "source": [
    "# Send GET Request to iNaturalist API\n",
    "Use the requests library to send a GET request to the iNaturalist API."
   ]
  },
  {
   "cell_type": "code",
   "execution_count": 0,
   "metadata": {
    "application/vnd.databricks.v1+cell": {
     "cellMetadata": {
      "byteLimit": 2048000,
      "rowLimit": 10000
     },
     "inputWidgets": {},
     "nuid": "e70be017-1cf5-4fba-ba9a-d4d00abb7785",
     "showTitle": false,
     "title": ""
    }
   },
   "outputs": [],
   "source": [
    "laval_place_id = 27655\n",
    "montreal_place_id = 187355\n",
    "gatineau_place_id = 142292\n",
    "\n",
    "# Initialize an empty DataFrame to store the observations\n",
    "def get_observations_dataframe(place_id,place_name):\n",
    "    df = pd.DataFrame()\n",
    "    for page in range(1, 10):\n",
    "        observation = get_observations(place_id=place_id, verifiable=True,per_page=200, page=str(page), quality_grade=\"research\")\n",
    "        df = df.append(observation[\"results\"], ignore_index=True)\n",
    "        df[\"location\"] = place_name\n",
    "    return df\n",
    "\n",
    "df_naturalist = pd.DataFrame()\n",
    "# Example usage\n",
    "laval_place_id = 27655\n",
    "data_laval = get_observations_dataframe(laval_place_id,\"Laval\")\n",
    "data_montreal = get_observations_dataframe(montreal_place_id,\"Montreal\")\n",
    "data_gatineau = get_observations_dataframe(gatineau_place_id,\"Gatineau\")\n",
    "\n",
    "df_naturalist = pd.concat([data_laval, data_montreal, data_gatineau], ignore_index=True)\n",
    "\n",
    "print(\"Data saved to 'inaturalist_data.csv'.\")"
   ]
  },
  {
   "cell_type": "code",
   "execution_count": 0,
   "metadata": {
    "application/vnd.databricks.v1+cell": {
     "cellMetadata": {
      "byteLimit": 2048000,
      "rowLimit": 10000
     },
     "inputWidgets": {},
     "nuid": "8949dcc8-1591-43e7-b68a-514d188bcb20",
     "showTitle": true,
     "title": "Saving naturalist sample as parquet"
    }
   },
   "outputs": [],
   "source": [
    "import pandas as pd\n",
    "\n",
    "# Assuming df_naturalist is a pandas DataFrame\n",
    "df_naturalist['observed_on'] = pd.to_datetime(df_naturalist['observed_on'], utc=True)\n",
    "\n",
    "# Save the DataFrame to Parquet\n",
    "df_naturalist.to_parquet(\"naturalist_sample.parquet\")"
   ]
  },
  {
   "cell_type": "code",
   "execution_count": 0,
   "metadata": {
    "application/vnd.databricks.v1+cell": {
     "cellMetadata": {
      "byteLimit": 2048000,
      "rowLimit": 10000
     },
     "inputWidgets": {},
     "nuid": "47962d5e-fb21-4849-a491-fa7d1702f2bb",
     "showTitle": true,
     "title": "converting observed_on date to String"
    }
   },
   "outputs": [],
   "source": [
    "df_naturalist = pd.read_parquet(\"naturalist_sample.parquet\")\n",
    "df_naturalist[\"observed_on\"] = df_naturalist[\"observed_on\"].dt.strftime(\"%Y-%m-%d\")"
   ]
  },
  {
   "cell_type": "code",
   "execution_count": 0,
   "metadata": {
    "application/vnd.databricks.v1+cell": {
     "cellMetadata": {
      "byteLimit": 2048000,
      "rowLimit": 10000
     },
     "inputWidgets": {},
     "nuid": "08899fc8-0fc4-4f68-8514-cfe5add6330c",
     "showTitle": true,
     "title": "Import Sentinelle Dataset CSV file"
    }
   },
   "outputs": [],
   "source": [
    "import os\n",
    "\n",
    "# Get all files in the data folder\n",
    "# Read the 'sentinelle_liste_sp.csv' file from the workspace\n",
    "file_path = 'sentinelle_liste_sp.csv'\n",
    "df_sentinelle = pd.read_csv(file_path)\n",
    "# Filter the files based on the ones that contain \"sentinelle\" in their name\n",
    "\n",
    "display(df_sentinelle)\n",
    "# Add any additional code here for further processing or analysis"
   ]
  },
  {
   "cell_type": "code",
   "execution_count": 0,
   "metadata": {
    "application/vnd.databricks.v1+cell": {
     "cellMetadata": {
      "byteLimit": 2048000,
      "rowLimit": 10000
     },
     "inputWidgets": {},
     "nuid": "02aa3733-7bc3-4991-b2a7-f2fa53f46a0a",
     "showTitle": true,
     "title": "Je travaille ici Seb, touche pas"
    },
    "jupyter": {
     "outputs_hidden": true
    }
   },
   "outputs": [],
   "source": [
    "import numpy as np\n",
    "\n",
    "def add_isEnvahissant_column(df_inaturalist, df_sentinelle):\n",
    "    cols_to_return = list(df_inaturalist)\n",
    "    cols_to_return.append(\"isEnvahissant\")\n",
    "    df_inaturalist['species_guess'] = df_inaturalist[['species_guess']].apply(lambda x: x.astype(str).str.lower())\n",
    "    df_sentinelle[\"Nom_francais\"] = df_sentinelle[['Nom_francais']].apply(lambda x: x.astype(str).str.lower())\n",
    "    merged_df = df_inaturalist.merge(right=df_sentinelle, left_on='species_guess', right_on='Nom_francais', how='left')\n",
    "    merged_df[\"isEnvahissant\"] = np.where((merged_df[\"Nom_francais\"].isnull()) | (merged_df[\"Nom_francais\"] == np.nan), False, True)\n",
    "    return merged_df[cols_to_return]\n",
    "\n",
    "# joined_df = add_isEnvahissant_column(df_naturalist, df_sentinelle)\n",
    "# joined_df[joined_df[\"isEnvahissant\"] == True]"
   ]
  },
  {
   "cell_type": "code",
   "execution_count": 0,
   "metadata": {
    "application/vnd.databricks.v1+cell": {
     "cellMetadata": {
      "byteLimit": 2048000,
      "rowLimit": 10000
     },
     "inputWidgets": {},
     "nuid": "1b73efa0-b653-472c-9105-76b1478fe507",
     "showTitle": true,
     "title": "Created Simplified JSON file for Mathieu, containing City, isEnvahissant and species_guess"
    }
   },
   "outputs": [],
   "source": [
    "# Keep only the 'species_guess' column and add a new column with the value 'Laval'\n",
    "# Convert the values in the 'species_guess' column to lowercase and select only the 'species_guess' column\n",
    "df_simplified = df_naturalist[['species_guess']].apply(lambda x: x.astype(str).str.lower())\n",
    "df_simplified['location'] = df_naturalist[['location']]\n",
    "df_simplified['observation_date'] = df_naturalist['observed_on']\n",
    "df_simplified = add_isEnvahissant_column(df_simplified, df_sentinelle)\n",
    "\n",
    "# Save the DataFrame as a JSON file with UTF-8 encoding and records orientation\n",
    "df_simplified.to_json(\"laval_with_species.json\", orient=\"records\", force_ascii=False)"
   ]
  },
  {
   "cell_type": "markdown",
   "metadata": {
    "application/vnd.databricks.v1+cell": {
     "cellMetadata": {},
     "inputWidgets": {},
     "nuid": "fe10b0a8-82be-4db5-bebd-e2fe337592ed",
     "showTitle": false,
     "title": ""
    }
   },
   "source": [
    "# Parse API Response\n",
    "Parse the JSON response from the API and convert it into a pandas DataFrame."
   ]
  },
  {
   "cell_type": "code",
   "execution_count": 0,
   "metadata": {
    "application/vnd.databricks.v1+cell": {
     "cellMetadata": {},
     "inputWidgets": {},
     "nuid": "3c349955-f1af-48e9-8f97-304024fec33a",
     "showTitle": false,
     "title": ""
    }
   },
   "outputs": [],
   "source": [
    "# Parse the JSON response and convert it into a pandas DataFrame\n",
    "# Extract the relevant information from each observation\n",
    "observations = []\n",
    "for result in results:\n",
    "    observation = {\n",
    "        'id': result['id'],\n",
    "        'observed_on': result['observed_on'],\n",
    "        'description': result['description'],\n",
    "        'latitude': result['geojson']['coordinates'][1],\n",
    "        'longitude': result['geojson']['coordinates'][0],\n",
    "        'location': result['location'],\n",
    "        'species_guess': result['species_guess']\n",
    "    }\n",
    "    observations.append(observation)\n",
    "\n",
    "# Convert the list of observations into a pandas DataFrame\n",
    "df = pd.DataFrame(observations)\n",
    "\n",
    "# Save the DataFrame to a CSV file\n",
    "df.to_csv('inaturalist_data.csv', index=False)\n",
    "\n",
    "print(\"Data saved to 'inaturalist_data.csv'.\")"
   ]
  },
  {
   "cell_type": "markdown",
   "metadata": {
    "application/vnd.databricks.v1+cell": {
     "cellMetadata": {},
     "inputWidgets": {},
     "nuid": "32893d7c-94df-424b-9c32-e26e9cf59ca7",
     "showTitle": false,
     "title": ""
    }
   },
   "source": [
    "# Filter Data by City\n",
    "Filter the DataFrame based on the city or cities of interest."
   ]
  },
  {
   "cell_type": "code",
   "execution_count": 0,
   "metadata": {
    "application/vnd.databricks.v1+cell": {
     "cellMetadata": {},
     "inputWidgets": {},
     "nuid": "128079a4-2ab9-47fd-a301-085e892e4576",
     "showTitle": false,
     "title": ""
    }
   },
   "outputs": [],
   "source": [
    "# Define the cities of interest\n",
    "cities_of_interest = ['city1', 'city2', 'city3']  # replace with your cities\n",
    "\n",
    "# Filter the DataFrame based on the city or cities of interest\n",
    "df_filtered = df[df['location'].isin(cities_of_interest)]\n",
    "\n",
    "# Save the filtered DataFrame to a CSV file\n",
    "df_filtered.to_csv('filtered_inaturalist_data.csv', index=False)\n",
    "\n",
    "print(\"Filtered data saved to 'filtered_inaturalist_data.csv'.\")"
   ]
  },
  {
   "cell_type": "markdown",
   "metadata": {
    "application/vnd.databricks.v1+cell": {
     "cellMetadata": {},
     "inputWidgets": {},
     "nuid": "9406b5e0-d59b-4602-b30b-c1978060191b",
     "showTitle": false,
     "title": ""
    }
   },
   "source": [
    "# Save Data to CSV\n",
    "Save the filtered data to a CSV file using pandas."
   ]
  },
  {
   "cell_type": "code",
   "execution_count": 0,
   "metadata": {
    "application/vnd.databricks.v1+cell": {
     "cellMetadata": {},
     "inputWidgets": {},
     "nuid": "a5d06bdb-eccc-4288-be79-4a38450d36eb",
     "showTitle": false,
     "title": ""
    }
   },
   "outputs": [],
   "source": [
    "# Save the filtered DataFrame to a CSV file\n",
    "df_filtered.to_csv('filtered_inaturalist_data.csv', index=False)\n",
    "\n",
    "print(\"Filtered data saved to 'filtered_inaturalist_data.csv'.\")"
   ]
  }
 ],
 "metadata": {
  "application/vnd.databricks.v1+notebook": {
   "dashboards": [],
   "language": "python",
   "notebookMetadata": {
    "mostRecentlyExecutedCommandWithImplicitDF": {
     "commandId": -1,
     "dataframes": [
      "_sqldf"
     ]
    },
    "pythonIndentUnit": 4
   },
   "notebookName": "Inaturalist_dump",
   "widgets": {}
  },
  "kernelspec": {
   "display_name": "Python 3",
   "language": "python",
   "name": "python3"
  },
  "language_info": {
   "codemirror_mode": {
    "name": "ipython",
    "version": 3
   },
   "file_extension": ".py",
   "mimetype": "text/x-python",
   "name": "python",
   "nbconvert_exporter": "python",
   "pygments_lexer": "ipython3",
   "version": "3.11.8"
  },
  "orig_nbformat": 4
 },
 "nbformat": 4,
 "nbformat_minor": 0
}
