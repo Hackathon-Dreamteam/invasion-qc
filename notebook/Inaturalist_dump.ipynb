{
 "cells": [
  {
   "cell_type": "markdown",
   "metadata": {},
   "source": [
    "# Import Required Libraries\n",
    "Import the necessary libraries, including requests and pandas."
   ]
  },
  {
   "cell_type": "code",
   "execution_count": 1,
   "metadata": {},
   "outputs": [],
   "source": [
    "# Importing the required libraries\n",
    "import requests\n",
    "import pandas as pd"
   ]
  },
  {
   "cell_type": "markdown",
   "metadata": {},
   "source": [
    "# Define API Endpoint and Parameters\n",
    "Define the iNaturalist API endpoint and the parameters for the GET request."
   ]
  },
  {
   "cell_type": "code",
   "execution_count": null,
   "metadata": {},
   "outputs": [],
   "source": [
    "# Define the iNaturalist API endpoint and parameters\n",
    "api_endpoint = \"https://api.inaturalist.org/v1/observations\"\n",
    "\n",
    "# Define the parameters for the GET request\n",
    "# Replace 'city_name' with the name of the city you are interested in\n",
    "params = {\n",
    "    'place_id': 'laval', \n",
    "    'verifiable': 'true',\n",
    "    'order': 'desc',\n",
    "    'order_by': 'created_at'\n",
    "}"
   ]
  },
  {
   "cell_type": "markdown",
   "metadata": {},
   "source": [
    "# Send GET Request to iNaturalist API\n",
    "Use the requests library to send a GET request to the iNaturalist API."
   ]
  },
  {
   "cell_type": "code",
   "execution_count": null,
   "metadata": {},
   "outputs": [],
   "source": [
    "# Send GET request to iNaturalist API\n",
    "response = requests.get(api_endpoint, params=params)\n",
    "\n",
    "# Check the status of the request\n",
    "if response.status_code == 200:\n",
    "    print(\"GET request to iNaturalist API successful.\")\n",
    "else:\n",
    "    print(f\"GET request to iNaturalist API failed with status code: {response.status_code}\")\n",
    "\n",
    "# Convert the response to JSON\n",
    "data = response.json()\n",
    "\n",
    "# Extract the results from the JSON data\n",
    "results = data['results']\n",
    "\n",
    "# Convert the results to a pandas DataFrame\n",
    "df = pd.DataFrame(results)\n",
    "\n",
    "# Save the DataFrame to a CSV file\n",
    "df.to_csv('inaturalist_data.csv', index=False)\n",
    "\n",
    "print(\"Data saved to 'inaturalist_data.csv'.\")"
   ]
  },
  {
   "cell_type": "markdown",
   "metadata": {},
   "source": [
    "# Parse API Response\n",
    "Parse the JSON response from the API and convert it into a pandas DataFrame."
   ]
  },
  {
   "cell_type": "code",
   "execution_count": null,
   "metadata": {},
   "outputs": [],
   "source": [
    "# Parse the JSON response and convert it into a pandas DataFrame\n",
    "# Extract the relevant information from each observation\n",
    "observations = []\n",
    "for result in results:\n",
    "    observation = {\n",
    "        'id': result['id'],\n",
    "        'observed_on': result['observed_on'],\n",
    "        'description': result['description'],\n",
    "        'latitude': result['geojson']['coordinates'][1],\n",
    "        'longitude': result['geojson']['coordinates'][0],\n",
    "        'location': result['location'],\n",
    "        'species_guess': result['species_guess']\n",
    "    }\n",
    "    observations.append(observation)\n",
    "\n",
    "# Convert the list of observations into a pandas DataFrame\n",
    "df = pd.DataFrame(observations)\n",
    "\n",
    "# Save the DataFrame to a CSV file\n",
    "df.to_csv('inaturalist_data.csv', index=False)\n",
    "\n",
    "print(\"Data saved to 'inaturalist_data.csv'.\")"
   ]
  },
  {
   "cell_type": "markdown",
   "metadata": {},
   "source": [
    "# Filter Data by City\n",
    "Filter the DataFrame based on the city or cities of interest."
   ]
  },
  {
   "cell_type": "code",
   "execution_count": null,
   "metadata": {},
   "outputs": [],
   "source": [
    "# Define the cities of interest\n",
    "cities_of_interest = ['city1', 'city2', 'city3']  # replace with your cities\n",
    "\n",
    "# Filter the DataFrame based on the city or cities of interest\n",
    "df_filtered = df[df['location'].isin(cities_of_interest)]\n",
    "\n",
    "# Save the filtered DataFrame to a CSV file\n",
    "df_filtered.to_csv('filtered_inaturalist_data.csv', index=False)\n",
    "\n",
    "print(\"Filtered data saved to 'filtered_inaturalist_data.csv'.\")"
   ]
  },
  {
   "cell_type": "markdown",
   "metadata": {},
   "source": [
    "# Save Data to CSV\n",
    "Save the filtered data to a CSV file using pandas."
   ]
  },
  {
   "cell_type": "code",
   "execution_count": null,
   "metadata": {},
   "outputs": [],
   "source": [
    "# Save the filtered DataFrame to a CSV file\n",
    "df_filtered.to_csv('filtered_inaturalist_data.csv', index=False)\n",
    "\n",
    "print(\"Filtered data saved to 'filtered_inaturalist_data.csv'.\")"
   ]
  }
 ],
 "metadata": {
  "kernelspec": {
   "display_name": "Python 3",
   "language": "python",
   "name": "python3"
  },
  "language_info": {
   "codemirror_mode": {
    "name": "ipython",
    "version": 3
   },
   "file_extension": ".py",
   "mimetype": "text/x-python",
   "name": "python",
   "nbconvert_exporter": "python",
   "pygments_lexer": "ipython3",
   "version": "3.11.8"
  },
  "orig_nbformat": 4
 },
 "nbformat": 4,
 "nbformat_minor": 2
}
