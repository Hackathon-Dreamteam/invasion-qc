{
 "cells": [
  {
   "cell_type": "markdown",
   "metadata": {},
   "source": [
    "# Import Required Libraries\n",
    "Import the necessary libraries, including requests and pandas."
   ]
  },
  {
   "cell_type": "code",
   "execution_count": 1,
   "metadata": {},
   "outputs": [],
   "source": [
    "# Importing the required libraries\n",
    "import requests\n",
    "import pandas as pd\n",
    "\n"
   ]
  },
  {
   "cell_type": "markdown",
   "metadata": {},
   "source": [
    "# Define API Endpoint and Parameters\n",
    "Define the iNaturalist API endpoint and the parameters for the GET request."
   ]
  },
  {
   "cell_type": "code",
   "execution_count": 2,
   "metadata": {},
   "outputs": [],
   "source": [
    "# Define the iNaturalist API endpoint and parameters\n",
    "api_endpoint = \"https://api.inaturalist.org/v1/observations\"\n",
    "\n",
    "# Define the parameters for the GET request\n",
    "# Replace 'city_name' with the name of the city you are interested in\n",
    "params = {\n",
    "    'place_id': 'laval', \n",
    "    'verifiable': 'true',\n",
    "    'order': 'desc',\n",
    "    'order_by': 'created_at'\n",
    "}"
   ]
  },
  {
   "cell_type": "markdown",
   "metadata": {},
   "source": [
    "# Send GET Request to iNaturalist API\n",
    "Use the requests library to send a GET request to the iNaturalist API."
   ]
  },
  {
   "cell_type": "code",
   "execution_count": 3,
   "metadata": {},
   "outputs": [
    {
     "name": "stdout",
     "output_type": "stream",
     "text": [
      "GET request to iNaturalist API failed with status code: 500\n"
     ]
    },
    {
     "ename": "KeyError",
     "evalue": "'results'",
     "output_type": "error",
     "traceback": [
      "\u001b[1;31m---------------------------------------------------------------------------\u001b[0m",
      "\u001b[1;31mKeyError\u001b[0m                                  Traceback (most recent call last)",
      "Cell \u001b[1;32mIn[3], line 14\u001b[0m\n\u001b[0;32m     11\u001b[0m data \u001b[38;5;241m=\u001b[39m response\u001b[38;5;241m.\u001b[39mjson()\n\u001b[0;32m     13\u001b[0m \u001b[38;5;66;03m# Extract the results from the JSON data\u001b[39;00m\n\u001b[1;32m---> 14\u001b[0m results \u001b[38;5;241m=\u001b[39m \u001b[43mdata\u001b[49m\u001b[43m[\u001b[49m\u001b[38;5;124;43m'\u001b[39;49m\u001b[38;5;124;43mresults\u001b[39;49m\u001b[38;5;124;43m'\u001b[39;49m\u001b[43m]\u001b[49m\n\u001b[0;32m     16\u001b[0m \u001b[38;5;66;03m# Convert the results to a pandas DataFrame\u001b[39;00m\n\u001b[0;32m     17\u001b[0m df \u001b[38;5;241m=\u001b[39m pd\u001b[38;5;241m.\u001b[39mDataFrame(results)\n",
      "\u001b[1;31mKeyError\u001b[0m: 'results'"
     ]
    }
   ],
   "source": [
    "from pyinaturalist import set_user_agent, create_observation\n",
    "\n",
    "# Set your user agent to identify your application\n",
    "set_user_agent('YourAppName', '1.0', 'your@email.com')\n",
    "\n",
    "# Set your user agent to identify your application\n",
    "set_user_agent('YourAppName', '1.0', 'your@email.com')\n",
    "\n",
    "# Set your API token\n",
    "api_token = 'your_api_token_here'\n",
    "\n",
    "# Example observation data\n",
    "observation_data = {\n",
    "    'species_guess': 'Vulpes vulpes',\n",
    "    'observed_on_string': '2024-03-09',\n",
    "    'latitude': 40.7128,\n",
    "    'longitude': -74.0060,\n",
    "    'place_guess': 'New York, NY, USA',\n",
    "    'description': 'A wild fox was seen in the park.',\n",
    "}\n",
    "\n",
    "# Create the observation\n",
    "response = create_observation(observation_data, api_token=api_token)\n",
    "\n",
    "# Check if the observation was created successfully\n",
    "if response.get('id'):\n",
    "    print(f\"Observation created successfully with ID: {response['id']}\")\n",
    "else:\n",
    "    print(\"Failed to create observation:\", response)\n",
    "\n",
    "# Extract the results from the JSON data\n",
    "results = data['results']\n",
    "\n",
    "# Convert the results to a pandas DataFrame\n",
    "df = pd.DataFrame(results)\n",
    "\n",
    "# Save the DataFrame to a CSV file\n",
    "df.to_csv('inaturalist_data.csv', index=False)\n",
    "\n",
    "print(\"Data saved to 'inaturalist_data.csv'.\")"
   ]
  },
  {
   "cell_type": "markdown",
   "metadata": {},
   "source": [
    "# Parse API Response\n",
    "Parse the JSON response from the API and convert it into a pandas DataFrame."
   ]
  },
  {
   "cell_type": "code",
   "execution_count": null,
   "metadata": {},
   "outputs": [],
   "source": [
    "# Parse the JSON response and convert it into a pandas DataFrame\n",
    "# Extract the relevant information from each observation\n",
    "observations = []\n",
    "for result in results:\n",
    "    observation = {\n",
    "        'id': result['id'],\n",
    "        'observed_on': result['observed_on'],\n",
    "        'description': result['description'],\n",
    "        'latitude': result['geojson']['coordinates'][1],\n",
    "        'longitude': result['geojson']['coordinates'][0],\n",
    "        'location': result['location'],\n",
    "        'species_guess': result['species_guess']\n",
    "    }\n",
    "    observations.append(observation)\n",
    "\n",
    "# Convert the list of observations into a pandas DataFrame\n",
    "df = pd.DataFrame(observations)\n",
    "\n",
    "# Save the DataFrame to a CSV file\n",
    "df.to_csv('inaturalist_data.csv', index=False)\n",
    "\n",
    "print(\"Data saved to 'inaturalist_data.csv'.\")"
   ]
  },
  {
   "cell_type": "markdown",
   "metadata": {},
   "source": [
    "# Filter Data by City\n",
    "Filter the DataFrame based on the city or cities of interest."
   ]
  },
  {
   "cell_type": "code",
   "execution_count": null,
   "metadata": {},
   "outputs": [],
   "source": [
    "# Define the cities of interest\n",
    "cities_of_interest = ['city1', 'city2', 'city3']  # replace with your cities\n",
    "\n",
    "# Filter the DataFrame based on the city or cities of interest\n",
    "df_filtered = df[df['location'].isin(cities_of_interest)]\n",
    "\n",
    "# Save the filtered DataFrame to a CSV file\n",
    "df_filtered.to_csv('filtered_inaturalist_data.csv', index=False)\n",
    "\n",
    "print(\"Filtered data saved to 'filtered_inaturalist_data.csv'.\")"
   ]
  },
  {
   "cell_type": "markdown",
   "metadata": {},
   "source": [
    "# Save Data to CSV\n",
    "Save the filtered data to a CSV file using pandas."
   ]
  },
  {
   "cell_type": "code",
   "execution_count": null,
   "metadata": {},
   "outputs": [],
   "source": [
    "# Save the filtered DataFrame to a CSV file\n",
    "df_filtered.to_csv('filtered_inaturalist_data.csv', index=False)\n",
    "\n",
    "print(\"Filtered data saved to 'filtered_inaturalist_data.csv'.\")"
   ]
  }
 ],
 "metadata": {
  "kernelspec": {
   "display_name": "Python 3",
   "language": "python",
   "name": "python3"
  },
  "language_info": {
   "codemirror_mode": {
    "name": "ipython",
    "version": 3
   },
   "file_extension": ".py",
   "mimetype": "text/x-python",
   "name": "python",
   "nbconvert_exporter": "python",
   "pygments_lexer": "ipython3",
   "version": "3.11.8"
  },
  "orig_nbformat": 4
 },
 "nbformat": 4,
 "nbformat_minor": 2
}
